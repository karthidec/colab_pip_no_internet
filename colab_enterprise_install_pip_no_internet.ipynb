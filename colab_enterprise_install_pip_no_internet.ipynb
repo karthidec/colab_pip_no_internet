{
  "cells": [
    {
      "cell_type": "markdown",
      "source": [
        "**Validate no internet access...**"
      ],
      "metadata": {
        "id": "4665mH0b9q14"
      },
      "id": "4665mH0b9q14"
    },
    {
      "cell_type": "code",
      "source": [
        "!curl fundamenta.co"
      ],
      "metadata": {
        "id": "uItx6Y779PGO"
      },
      "id": "uItx6Y779PGO",
      "execution_count": null,
      "outputs": []
    },
    {
      "cell_type": "markdown",
      "source": [
        "**Artifact Registry Config - just do this once**\n",
        "\n",
        "Run the following to get your pip config for Artifact Registry, and follow instructions.\n",
        "\n",
        "> Replace with your own `project`, `repository` and `location` settings\n",
        "\n",
        "i.e.\n",
        "```\n",
        "!gcloud artifacts print-settings python --project=practical-gcp-sandbox-1 \\\n",
        "    --repository=pypi \\\n",
        "    --location=europe-west2\n",
        "```\n",
        "\n",
        "Except, make sure in `~/.config/pip/pip.conf` has index-url instead, and remove all other public / default PyPi references.\n",
        "\n",
        "i.e.\n",
        "```\n",
        "[global]\n",
        "index-url = https://europe-west2-python.pkg.dev/practical-gcp-sandbox-1/pypi/simple/\n",
        "```"
      ],
      "metadata": {
        "id": "hUzskYgk56Wu"
      },
      "id": "hUzskYgk56Wu"
    },
    {
      "cell_type": "code",
      "source": [
        "!gcloud artifacts print-settings python --project=practical-gcp-sandbox-1 \\\n",
        "    --repository=pypi \\\n",
        "    --location=europe-west2"
      ],
      "metadata": {
        "id": "kg5o3MxJ7fvc"
      },
      "id": "kg5o3MxJ7fvc",
      "execution_count": null,
      "outputs": []
    },
    {
      "cell_type": "markdown",
      "source": [
        "**Make sure we don't have the `google-artifactregistry-auth` installed yet**"
      ],
      "metadata": {
        "id": "P_tnaULb-SgY"
      },
      "id": "P_tnaULb-SgY"
    },
    {
      "cell_type": "code",
      "source": [
        "!pip uninstall keyrings.google-artifactregistry-auth"
      ],
      "metadata": {
        "id": "1VBKZROY1BgS"
      },
      "id": "1VBKZROY1BgS",
      "execution_count": null,
      "outputs": []
    },
    {
      "cell_type": "code",
      "source": [
        "!python -m keyring --list-backends"
      ],
      "metadata": {
        "id": "HZkns1638gu5"
      },
      "id": "HZkns1638gu5",
      "execution_count": null,
      "outputs": []
    },
    {
      "cell_type": "markdown",
      "source": [
        "Now, it's important to know the next steps requires you to use interactive credential only once.\n",
        "- username is always: `oauth2accesstoken`\n",
        "- password, run: `gcloud auth print-access-token`"
      ],
      "metadata": {
        "id": "88KNtj8174LC"
      },
      "id": "88KNtj8174LC"
    },
    {
      "cell_type": "code",
      "source": [
        "!pip install keyrings.google-artifactregistry-auth"
      ],
      "metadata": {
        "id": "3VbFHmzn3bSO"
      },
      "id": "3VbFHmzn3bSO",
      "execution_count": null,
      "outputs": []
    },
    {
      "cell_type": "code",
      "source": [
        "!python -m keyring --list-backends"
      ],
      "metadata": {
        "id": "SajwxwYk0hiL"
      },
      "id": "SajwxwYk0hiL",
      "execution_count": null,
      "outputs": []
    },
    {
      "cell_type": "code",
      "source": [
        "!pip install pydantic==2.9.2"
      ],
      "metadata": {
        "id": "IwrvKZCDqpSc"
      },
      "id": "IwrvKZCDqpSc",
      "execution_count": null,
      "outputs": []
    }
  ],
  "metadata": {
    "kernelspec": {
      "display_name": "Python 3",
      "language": "python",
      "name": "python3"
    },
    "language_info": {
      "codemirror_mode": {
        "name": "ipython",
        "version": 3
      },
      "file_extension": ".py",
      "mimetype": "text/x-python",
      "name": "python",
      "nbconvert_exporter": "python",
      "pygments_lexer": "ipython3",
      "version": "3.10.10"
    },
    "colab": {
      "provenance": [],
      "name": "pubsub_producer_no_message_loss"
    }
  },
  "nbformat": 4,
  "nbformat_minor": 5
}